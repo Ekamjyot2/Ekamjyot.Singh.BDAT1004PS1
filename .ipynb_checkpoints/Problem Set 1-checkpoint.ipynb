{
 "cells": [
  {
   "cell_type": "markdown",
   "id": "9e7099a6",
   "metadata": {},
   "source": [
    "Question 1: What data type is each of the following (evaluate where necessary)?"
   ]
  },
  {
   "cell_type": "code",
   "execution_count": 1,
   "id": "2d7bc190",
   "metadata": {},
   "outputs": [
    {
     "name": "stdout",
     "output_type": "stream",
     "text": [
      "<class 'int'>\n"
     ]
    }
   ],
   "source": [
    "# Expression 1: 5\n",
    "data_type_1 = type(5)\n",
    "print(data_type_1)"
   ]
  },
  {
   "cell_type": "code",
   "execution_count": 2,
   "id": "9d4ab5d4",
   "metadata": {},
   "outputs": [
    {
     "name": "stdout",
     "output_type": "stream",
     "text": [
      "<class 'float'>\n"
     ]
    }
   ],
   "source": [
    "# Expression 2: 5.0\n",
    "data_type_2 = type(5.0)\n",
    "print(data_type_2)"
   ]
  },
  {
   "cell_type": "code",
   "execution_count": 3,
   "id": "103948be",
   "metadata": {},
   "outputs": [
    {
     "name": "stdout",
     "output_type": "stream",
     "text": [
      "<class 'bool'>\n"
     ]
    }
   ],
   "source": [
    "# Expression 3: 5 > 1\n",
    "data_type_3 = type(5 > 1)\n",
    "print(data_type_3)"
   ]
  },
  {
   "cell_type": "code",
   "execution_count": 4,
   "id": "46e4941e",
   "metadata": {},
   "outputs": [
    {
     "name": "stdout",
     "output_type": "stream",
     "text": [
      "<class 'str'>\n"
     ]
    }
   ],
   "source": [
    "# Expression 4: '5'\n",
    "data_type_4 = type('5')\n",
    "print(data_type_4)"
   ]
  },
  {
   "cell_type": "code",
   "execution_count": 5,
   "id": "400c1bcb",
   "metadata": {},
   "outputs": [
    {
     "name": "stdout",
     "output_type": "stream",
     "text": [
      "<class 'int'>\n"
     ]
    }
   ],
   "source": [
    "# Expression 5: 5 * 2\n",
    "data_type_5 = type(5 * 2)\n",
    "print(data_type_5) "
   ]
  },
  {
   "cell_type": "code",
   "execution_count": 6,
   "id": "4240e09e",
   "metadata": {},
   "outputs": [
    {
     "name": "stdout",
     "output_type": "stream",
     "text": [
      "<class 'str'>\n"
     ]
    }
   ],
   "source": [
    "# Expression 6: '5' * 2\n",
    "data_type_6 = type('5' * 2)\n",
    "print(data_type_6)"
   ]
  },
  {
   "cell_type": "code",
   "execution_count": 7,
   "id": "4da9f1bc",
   "metadata": {},
   "outputs": [
    {
     "name": "stdout",
     "output_type": "stream",
     "text": [
      "<class 'str'>\n"
     ]
    }
   ],
   "source": [
    "# Expression 7: '5' + '2'\n",
    "data_type_7 = type('5' + '2')\n",
    "print(data_type_7) "
   ]
  },
  {
   "cell_type": "code",
   "execution_count": 8,
   "id": "07945e35",
   "metadata": {},
   "outputs": [
    {
     "name": "stdout",
     "output_type": "stream",
     "text": [
      "<class 'float'>\n"
     ]
    }
   ],
   "source": [
    " # Expression 8: 5 / 2\n",
    "data_type_8 = type(5 / 2)\n",
    "print(data_type_8) "
   ]
  },
  {
   "cell_type": "code",
   "execution_count": 9,
   "id": "ea28b7aa",
   "metadata": {},
   "outputs": [
    {
     "name": "stdout",
     "output_type": "stream",
     "text": [
      "<class 'int'>\n"
     ]
    }
   ],
   "source": [
    "# Expression 9: 5 % 2\n",
    "data_type_9 = type(5 % 2)\n",
    "print(data_type_9) "
   ]
  },
  {
   "cell_type": "code",
   "execution_count": 10,
   "id": "bec7c6ab",
   "metadata": {},
   "outputs": [
    {
     "name": "stdout",
     "output_type": "stream",
     "text": [
      "<class 'set'>\n"
     ]
    }
   ],
   "source": [
    "# Expression 10: {5, 2, 1}\n",
    "data_type_10 = type({5, 2, 1})\n",
    "print(data_type_10)"
   ]
  },
  {
   "cell_type": "code",
   "execution_count": 11,
   "id": "4355260b",
   "metadata": {},
   "outputs": [
    {
     "name": "stdout",
     "output_type": "stream",
     "text": [
      "<class 'bool'>\n"
     ]
    }
   ],
   "source": [
    "# Expression 11: 5 == 3\n",
    "data_type_11 = type(5 == 3)\n",
    "print(data_type_11) "
   ]
  },
  {
   "cell_type": "code",
   "execution_count": 12,
   "id": "41f00a5b",
   "metadata": {},
   "outputs": [
    {
     "name": "stdout",
     "output_type": "stream",
     "text": [
      "<class 'float'>\n"
     ]
    }
   ],
   "source": [
    "# Expression 12: Pi (the number)\n",
    "import math\n",
    "data_type_12 = type(math.pi)\n",
    "print(data_type_12)"
   ]
  },
  {
   "cell_type": "markdown",
   "id": "76565b47",
   "metadata": {},
   "source": [
    "Question 2: Write (and evaluate) python expressions that answer these questions:\n",
    "a. How many letters are there in 'Supercalifragilisticexpialidocious'?"
   ]
  },
  {
   "cell_type": "code",
   "execution_count": 13,
   "id": "061e3ab4",
   "metadata": {},
   "outputs": [
    {
     "name": "stdout",
     "output_type": "stream",
     "text": [
      "34\n"
     ]
    }
   ],
   "source": [
    "word = 'Supercalifragilisticexpialidocious'\n",
    "letter_count = len(word)\n",
    "print(letter_count)"
   ]
  },
  {
   "cell_type": "markdown",
   "id": "4febd1bb",
   "metadata": {},
   "source": [
    "b. Does 'Supercalifragilisticexpialidocious' contain 'ice' as a substring?\n",
    "\n"
   ]
  },
  {
   "cell_type": "code",
   "execution_count": 14,
   "id": "aaa89603",
   "metadata": {},
   "outputs": [
    {
     "name": "stdout",
     "output_type": "stream",
     "text": [
      "True\n"
     ]
    }
   ],
   "source": [
    "substring = 'ice'\n",
    "contains_substring = substring in word\n",
    "print(contains_substring)"
   ]
  },
  {
   "cell_type": "markdown",
   "id": "6ccfc1ad",
   "metadata": {},
   "source": [
    "c. Which of the following words is the longest:\n",
    "Supercalifragilisticexpialidocious, Honorificabilitudinitatibus, or\n",
    "Bababadalgharaghtakamminarronnkonn?"
   ]
  },
  {
   "cell_type": "code",
   "execution_count": 15,
   "id": "a7f40b24",
   "metadata": {},
   "outputs": [
    {
     "name": "stdout",
     "output_type": "stream",
     "text": [
      "Supercalifragilisticexpialidocious\n"
     ]
    }
   ],
   "source": [
    "words = [\n",
    "    'Supercalifragilisticexpialidocious',\n",
    "    'Honorificabilitudinitatibus',\n",
    "    'Bababadalgharaghtakamminarronnkonn'\n",
    "]\n",
    "\n",
    "longest_length = 0\n",
    "longest_word = ''\n",
    "\n",
    "for word in words:\n",
    "    if len(word) > longest_length:\n",
    "        longest_length = len(word)\n",
    "        longest_word = word\n",
    "\n",
    "print(longest_word)"
   ]
  },
  {
   "cell_type": "markdown",
   "id": "0423baf1",
   "metadata": {},
   "source": [
    "d. Which composer comes first in the dictionary: 'Berlioz', 'Borodin', 'Brian',\n",
    "'Bartok', 'Bellini', 'Buxtehude', 'Bernstein'. Which one comes last?"
   ]
  },
  {
   "cell_type": "code",
   "execution_count": 16,
   "id": "c8324d5e",
   "metadata": {},
   "outputs": [
    {
     "name": "stdout",
     "output_type": "stream",
     "text": [
      "Bartok\n",
      "Buxtehude\n"
     ]
    }
   ],
   "source": [
    "composers = ['Berlioz', 'Borodin', 'Brian', 'Bartok', 'Bellini', 'Buxtehude', 'Bernstein']\n",
    "\n",
    "first_composer = min(composers)\n",
    "last_composer = max(composers)\n",
    "\n",
    "print(first_composer)  \n",
    "print(last_composer)"
   ]
  },
  {
   "cell_type": "markdown",
   "id": "b5d487e4",
   "metadata": {},
   "source": [
    "Question 3\n",
    "Implement function triangleArea(a,b,c) that takes as input the lengths of the 3\n",
    "sides of a triangle and returns the area of the triangle. By Heron's formula, the area\n",
    "of a triangle with side lengths a, b, and c is\n",
    "s(s - a)(s -b)(s -c)\n",
    ", where\n",
    "s = (a+b+c)/2."
   ]
  },
  {
   "cell_type": "code",
   "execution_count": 17,
   "id": "fa3cc9c9",
   "metadata": {},
   "outputs": [],
   "source": [
    "def triangleArea(a, b, c):\n",
    "    s = (a + b + c) / 2\n",
    "\n",
    "    # Calculate the area using Heron's formula\n",
    "    area = (s * (s - a) * (s - b) * (s - c)) ** 0.5\n",
    "\n",
    "    return area\n"
   ]
  },
  {
   "cell_type": "code",
   "execution_count": 18,
   "id": "41e4cf4c",
   "metadata": {},
   "outputs": [
    {
     "name": "stdout",
     "output_type": "stream",
     "text": [
      "1.7320508075688772\n"
     ]
    }
   ],
   "source": [
    "result = triangleArea (2,2,2)\n",
    "print (result)"
   ]
  },
  {
   "cell_type": "markdown",
   "id": "dc4345ce",
   "metadata": {},
   "source": [
    "Question 4 :\n",
    "Write a program in python to separate odd and even integers in separate arrays. Go\n",
    "to the editor\n",
    "Test Data :\n",
    "Input the number of elements to be stored in the array :5\n",
    "Input 5 elements in the array :\n",
    "element - 0 : 25\n",
    "element - 1 : 47\n",
    "element - 2 : 42\n",
    "element - 3 : 56\n",
    "element - 4 : 32"
   ]
  },
  {
   "cell_type": "code",
   "execution_count": 19,
   "id": "e5b6f212",
   "metadata": {},
   "outputs": [
    {
     "name": "stdout",
     "output_type": "stream",
     "text": [
      "Input the number of elements to  5\n",
      "Element - 0: 42\n",
      "Element - 1: 34\n",
      "Element - 2: 35\n",
      "Element - 3: 23\n",
      "Element - 4: 33\n"
     ]
    }
   ],
   "source": [
    "number_of_elements = int(input(\"Input the number of elements to  \"))\n",
    "\n",
    "even_numbers = []\n",
    "odd_numbers = []\n",
    "\n",
    "for i in range(number_of_elements):\n",
    "    element = int(input(f\"Element - {i}: \"))\n",
    "    if element % 2 == 0:\n",
    "        even_numbers.append(element)\n",
    "    else:\n",
    "        odd_numbers.append(element)"
   ]
  },
  {
   "cell_type": "code",
   "execution_count": 20,
   "id": "8bebdaac",
   "metadata": {},
   "outputs": [
    {
     "name": "stdout",
     "output_type": "stream",
     "text": [
      "The Even elements are:\n",
      "42 34 "
     ]
    }
   ],
   "source": [
    "print(\"The Even elements are:\")\n",
    "for num in even_numbers:\n",
    "    print(num, end=\" \")\n",
    "    "
   ]
  },
  {
   "cell_type": "code",
   "execution_count": 21,
   "id": "9d7d5073",
   "metadata": {},
   "outputs": [
    {
     "name": "stdout",
     "output_type": "stream",
     "text": [
      "The Odd elements are:\n",
      "35 23 33 "
     ]
    }
   ],
   "source": [
    "print(\"The Odd elements are:\")\n",
    "for num in odd_numbers:\n",
    "    print(num, end=\" \")\n",
    "    "
   ]
  },
  {
   "cell_type": "markdown",
   "id": "b177585a",
   "metadata": {},
   "source": [
    "Question 5:\n",
    "a.Write a function inside(x,y,x1,y1,x2,y2) that returns True or False\n",
    "depending on whether the point (x,y) lies in the rectangle with lower left\n",
    "corner (x1,y1) and upper right corner (x2,y2)."
   ]
  },
  {
   "cell_type": "code",
   "execution_count": 22,
   "id": "183c649d",
   "metadata": {},
   "outputs": [],
   "source": [
    "def inside(x, y, x1, y1, x2, y2):\n",
    "    if x >= x1 and x <= x2 and y >= y1 and y <= y2:\n",
    "        return True\n",
    "    else:\n",
    "        return False"
   ]
  },
  {
   "cell_type": "code",
   "execution_count": 23,
   "id": "d12cf23f",
   "metadata": {},
   "outputs": [
    {
     "name": "stdout",
     "output_type": "stream",
     "text": [
      "True\n"
     ]
    }
   ],
   "source": [
    "print(inside(1, 1, 0, 0, 2, 3))\n"
   ]
  },
  {
   "cell_type": "code",
   "execution_count": 24,
   "id": "03aad865",
   "metadata": {},
   "outputs": [
    {
     "name": "stdout",
     "output_type": "stream",
     "text": [
      "False\n"
     ]
    }
   ],
   "source": [
    "print(inside(-1, -1, 0, 0, 2, 3)) "
   ]
  },
  {
   "cell_type": "markdown",
   "id": "76eb370f",
   "metadata": {},
   "source": [
    "b.Use function inside() from part a. to write an expression that tests whether\n",
    "the point (1,1) lies in both of the following rectangles: one with lower left\n",
    "corner (0.3, 0.5) and upper right corner (1.1, 0.7) and the other with lower\n",
    "left corner (0.5, 0.2) and upper right corner (1.1, 2). "
   ]
  },
  {
   "cell_type": "code",
   "execution_count": 25,
   "id": "c2cec993",
   "metadata": {},
   "outputs": [
    {
     "data": {
      "text/plain": [
       "False"
      ]
     },
     "execution_count": 25,
     "metadata": {},
     "output_type": "execute_result"
    }
   ],
   "source": [
    "inside(1, 1, 0.3, 0.5, 1.1, 0.7) and inside(1, 1, 0.5, 0.2, 1.1, 2)\n"
   ]
  },
  {
   "cell_type": "markdown",
   "id": "b5fbf35b",
   "metadata": {},
   "source": [
    "Question 6. You can turn a word into pig-Latin using the following two rules (simplified):\n",
    "• If the word starts with a consonant, move that letter to the end and append\n",
    "'ay'. For example, 'happy' becomes 'appyhay' and 'pencil' becomes 'encilpay'.\n",
    "• If the word starts with a vowel, simply append 'way' to the end of the word.\n",
    "For example, 'enter' becomes 'enterway' and 'other' becomes 'otherway' . For\n",
    "our purposes, there are 5 vowels: a, e, i, o, u (so we count y as a consonant).\n",
    "Write a function pig() that takes a word (i.e., a string) as input and returns its pigLatin form.\n",
    "Your function should still work if the input word contains upper case\n",
    "characters. Your output should always be lower case however. "
   ]
  },
  {
   "cell_type": "code",
   "execution_count": 26,
   "id": "dfefc067",
   "metadata": {},
   "outputs": [],
   "source": [
    "def pig(word):\n",
    "    # Convert the word to lowercase\n",
    "    word = word.lower()\n",
    "\n",
    "    # Check if the word starts with a vowel\n",
    "    vowels = ['a', 'e', 'i', 'o', 'u']\n",
    "    if word[0] in vowels:\n",
    "        return word + 'way'\n",
    "\n",
    "    # Word starts with a consonant\n",
    "    return word[1:] + word[0] + 'ay'\n"
   ]
  },
  {
   "cell_type": "code",
   "execution_count": 27,
   "id": "7dacb41d",
   "metadata": {},
   "outputs": [
    {
     "name": "stdout",
     "output_type": "stream",
     "text": [
      "appyhay\n"
     ]
    }
   ],
   "source": [
    "print(pig('happy'))"
   ]
  },
  {
   "cell_type": "code",
   "execution_count": 28,
   "id": "5f88b10e",
   "metadata": {},
   "outputs": [
    {
     "name": "stdout",
     "output_type": "stream",
     "text": [
      "encilpay\n"
     ]
    }
   ],
   "source": [
    "print(pig('pencil'))"
   ]
  },
  {
   "cell_type": "markdown",
   "id": "66816963",
   "metadata": {},
   "source": [
    "Question 7:File bloodtype1.txt records blood-types of patients (A, B, AB, O or OO) at a clinic.\n",
    "Write a function bldcount() that reads the file with name name and reports (i.e.,\n",
    "prints) how many patients there are in each bloodtype."
   ]
  },
  {
   "cell_type": "code",
   "execution_count": 29,
   "id": "a1576242",
   "metadata": {},
   "outputs": [],
   "source": [
    "def bldcount(filename):\n",
    "    blood_counts = {}\n",
    "    with open('bloodtype1.txt', 'r') as file:\n",
    "        for line in file:\n",
    "            blood_types = line.strip().split()\n",
    "\n",
    "            for blood_type in blood_types:\n",
    "                if blood_type in blood_counts:\n",
    "                    blood_counts[blood_type] += 1\n",
    "                else:\n",
    "                    blood_counts[blood_type] = 1\n",
    "\n",
    "    for blood_type, count in blood_counts.items():\n",
    "        if count == 1:\n",
    "            print(\"There is one patient of blood type\", blood_type + \".\")\n",
    "        else:\n",
    "            print(\"There are\", count, \"patients of blood type\", blood_type + \".\")\n"
   ]
  },
  {
   "cell_type": "code",
   "execution_count": 30,
   "id": "78cb9a78",
   "metadata": {},
   "outputs": [
    {
     "name": "stdout",
     "output_type": "stream",
     "text": [
      "There are 13 patients of blood type AB.\n",
      "There is one patient of blood type B.\n",
      "There are 15 patients of blood type O.\n",
      "There are 15 patients of blood type A.\n"
     ]
    }
   ],
   "source": [
    "bldcount('bloodtype1.txt')"
   ]
  },
  {
   "cell_type": "markdown",
   "id": "eb431763",
   "metadata": {},
   "source": [
    "Question 8:Write a function curconv() that takes as input:\n",
    "1. a currency represented using a string (e.g., 'JPY' for the Japanese Yen or\n",
    "'EUR' for the Euro)\n",
    "2. an amount\n",
    "and then converts and returns the amount in US dollars."
   ]
  },
  {
   "cell_type": "code",
   "execution_count": 31,
   "id": "e60c0be5",
   "metadata": {},
   "outputs": [],
   "source": [
    "def curconv(currency, amount):\n",
    "   \n",
    "    exchange_rates = {}\n",
    "    with open('currencies.txt', 'r') as file:\n",
    "        for line in file:\n",
    "            values = line.split()\n",
    "            exchange_rates[values[0]] = float(values[1])\n",
    "\n",
    "    if currency in exchange_rates:\n",
    "        usd_amount = amount * exchange_rates[currency]\n",
    "        return usd_amount\n",
    "    else:\n",
    "        return \"Currency not found\""
   ]
  },
  {
   "cell_type": "code",
   "execution_count": 32,
   "id": "61567882",
   "metadata": {},
   "outputs": [
    {
     "name": "stdout",
     "output_type": "stream",
     "text": [
      "122.96544\n"
     ]
    }
   ],
   "source": [
    "print(curconv('EUR', 100))"
   ]
  },
  {
   "cell_type": "code",
   "execution_count": 33,
   "id": "94318fa6",
   "metadata": {},
   "outputs": [
    {
     "name": "stdout",
     "output_type": "stream",
     "text": [
      "1.241401\n"
     ]
    }
   ],
   "source": [
    "print(curconv('JPY', 100))"
   ]
  },
  {
   "cell_type": "markdown",
   "id": "f5e31450",
   "metadata": {},
   "source": [
    "Question 9:\n",
    "Each of the following will cause an exception (an error). Identify what type of\n",
    "exception each will cause.\n",
    "a.Trying to add incompatible variables, as in adding 6 + ‘a’\n",
    "b.Referring to the 12th item of a list that has only 10 items\n",
    "c.Using a value that is out of range for a function’s input, such as calling math.sqrt(-1.0)\n",
    "d.Using an undeclared variable, such as print(x) when x has not been defined\n",
    "e.Trying to open a file that does not exist, such as mistyping the file name or looking in the wrong directory. "
   ]
  },
  {
   "cell_type": "code",
   "execution_count": 34,
   "id": "60077680",
   "metadata": {},
   "outputs": [
    {
     "name": "stdout",
     "output_type": "stream",
     "text": [
      "Exception occurred: unsupported operand type(s) for +: 'int' and 'str'\n"
     ]
    }
   ],
   "source": [
    "try:\n",
    "    result = 6 + 'a'\n",
    "    print(result)\n",
    "except TypeError as e:\n",
    "    print(\"Exception occurred:\", e)\n"
   ]
  },
  {
   "cell_type": "code",
   "execution_count": 35,
   "id": "92e021e2",
   "metadata": {},
   "outputs": [
    {
     "name": "stdout",
     "output_type": "stream",
     "text": [
      "Exception occurred: list index out of range\n"
     ]
    }
   ],
   "source": [
    "try:\n",
    "    my_list = [1, 2, 3, 4, 5, 6, 7, 8, 9, 10]\n",
    "    item = my_list[11]\n",
    "    print(item)\n",
    "except IndexError as e:\n",
    "    print(\"Exception occurred:\", e)\n"
   ]
  },
  {
   "cell_type": "code",
   "execution_count": 36,
   "id": "c115fd27",
   "metadata": {},
   "outputs": [
    {
     "name": "stdout",
     "output_type": "stream",
     "text": [
      "Exception occurred: math domain error\n"
     ]
    }
   ],
   "source": [
    "import math\n",
    "\n",
    "try:\n",
    "    result = math.sqrt(-1.0)\n",
    "    print(result)\n",
    "except ValueError as e:\n",
    "    print(\"Exception occurred:\", e)\n"
   ]
  },
  {
   "cell_type": "code",
   "execution_count": 37,
   "id": "8c2bafda",
   "metadata": {},
   "outputs": [
    {
     "name": "stdout",
     "output_type": "stream",
     "text": [
      "Exception occurred: name 'x' is not defined\n"
     ]
    }
   ],
   "source": [
    "try:\n",
    "    print(x)\n",
    "except NameError as e:\n",
    "    print(\"Exception occurred:\", e)\n"
   ]
  },
  {
   "cell_type": "code",
   "execution_count": 38,
   "id": "667e5eec",
   "metadata": {},
   "outputs": [
    {
     "name": "stdout",
     "output_type": "stream",
     "text": [
      "Exception occurred: [Errno 2] No such file or directory: 'nonexistent_file.txt'\n"
     ]
    }
   ],
   "source": [
    "try:\n",
    "    file = open('nonexistent_file.txt', 'r')\n",
    "    print(file.read())\n",
    "    file.close()\n",
    "except FileNotFoundError as e:\n",
    "    print(\"Exception occurred:\", e)\n"
   ]
  },
  {
   "cell_type": "markdown",
   "id": "9e39f827",
   "metadata": {
    "collapsed": true
   },
   "source": [
    "Question 10:Encryption is the process of hiding the meaning of a text by substituting letters in the\n",
    "message with other letters, according to some system. If the process is successful, no\n",
    "one but the intended recipient can understand the encrypted message. Cryptanalysis\n",
    "refers to attempts to undo the encryption, even if some details of the encryption are\n",
    "unknown (for example, if an encrypted message has been intercepted). The first step\n",
    "of cryptanalysis is often to build up a table of letter frequencies in the encrypted text.\n",
    "Assume that the string letters is already defined as\n",
    "'abcdefghijklmnopqrstuvwxyz'. Write a function called frequencies()\n",
    "that takes a string as its only parameter, and returns a list of integers, showing the\n",
    "number of times each character appears in the text. Your function may ignore any\n",
    "characters that are not in letters."
   ]
  },
  {
   "cell_type": "code",
   "execution_count": 39,
   "id": "7a24bb6b",
   "metadata": {},
   "outputs": [],
   "source": [
    "def frequencies(text):\n",
    "    letters = 'abcdefghijklmnopqrstuvwxyz'\n",
    "    letter_count = [0] * 26\n",
    "\n",
    "    text = text.lower()\n",
    "\n",
    "    for char in text:\n",
    "        if char in letters:\n",
    "            index = letters.index(char)\n",
    "            letter_count[index] += 1\n",
    "\n",
    "    return letter_count"
   ]
  },
  {
   "cell_type": "code",
   "execution_count": 40,
   "id": "84d7b307",
   "metadata": {},
   "outputs": [
    {
     "name": "stdout",
     "output_type": "stream",
     "text": [
      "[1, 1, 1, 3, 5, 1, 1, 2, 1, 0, 1, 0, 1, 2, 4, 0, 1, 2, 0, 3, 1, 0, 1, 1, 0, 0]\n"
     ]
    }
   ],
   "source": [
    "print(frequencies('The quick red fox got bored and went home.'))"
   ]
  },
  {
   "cell_type": "code",
   "execution_count": 41,
   "id": "a4c8b8df",
   "metadata": {},
   "outputs": [
    {
     "name": "stdout",
     "output_type": "stream",
     "text": [
      "[1, 0, 0, 0, 1, 0, 0, 0, 0, 0, 0, 1, 0, 0, 0, 2, 0, 0, 0, 0, 0, 0, 0, 0, 0, 0]\n"
     ]
    }
   ],
   "source": [
    "print(frequencies('apple'))"
   ]
  }
 ],
 "metadata": {
  "kernelspec": {
   "display_name": "Python 3 (ipykernel)",
   "language": "python",
   "name": "python3"
  },
  "language_info": {
   "codemirror_mode": {
    "name": "ipython",
    "version": 3
   },
   "file_extension": ".py",
   "mimetype": "text/x-python",
   "name": "python",
   "nbconvert_exporter": "python",
   "pygments_lexer": "ipython3",
   "version": "3.9.13"
  }
 },
 "nbformat": 4,
 "nbformat_minor": 5
}
